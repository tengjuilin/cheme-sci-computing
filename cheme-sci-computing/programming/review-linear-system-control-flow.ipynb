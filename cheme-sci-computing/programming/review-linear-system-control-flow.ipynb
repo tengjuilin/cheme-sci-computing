{
 "cells": [
  {
   "cell_type": "markdown",
   "metadata": {},
   "source": [
    "# Review of Solving Linear Systems and Control Flow\n",
    "\n",
    "Teng-Jui Lin\n",
    "\n",
    "Content adapted from UW CHEME 375, Chemical Engineering Computer Skills, in Spring 2021.\n",
    "\n",
    "- Python skills and numerical methods\n",
    "  - Solving linear systems by [`scipy.linalg.solve()`](https://docs.scipy.org/doc/scipy/reference/generated/scipy.linalg.solve.html)\n",
    "- ChemE applications\n",
    "  - Solving recycle streams\n",
    "    - Linear system method\n",
    "    - Tear stream method"
   ]
  },
  {
   "cell_type": "markdown",
   "metadata": {},
   "source": [
    "## Solving recycle streams\n",
    "\n",
    "**Problem Statement.** A system that consists a reactor and a separator with a recycle is shown below. The fresh feed is 1000 mol/h of pure A. The reaction is isomerization of A to B with a single pass conversion rate of 75%. The split fraction from steam 3 to 4 is 30%. Generate a stream table.\n",
    "\n",
    "![Flow diagram](img/flow-diagram.png)"
   ]
  },
  {
   "cell_type": "markdown",
   "metadata": {},
   "source": [
    "### Linear system method\n",
    "**Solution.**\n",
    "\n",
    "*Given values.* We are given the values\n",
    "\n",
    "- fresh feed of A $F_1^A = 1000 \\ \\text{mol A/h}$\n",
    "- fresh feed of B $F_1^B = 0 \\ \\text{mol B/h}$\n",
    "- single pass conversion rate $X = 0.75$\n",
    "- split fraction of A, B $f_{3-4} = 0.3$\n",
    "\n",
    "*Degree of freedom analysis.* Adding all the degree of freedom analysis, the degree of freedom is\n",
    "\n",
    "$$\n",
    "\\small\n",
    "\\begin{aligned}\n",
    "& \\text{8 total unknown variables} (F_2^A, F_2^B, F_3^A, F_3^B, F_4^A, F_4^B, F_5^A, F_5^B) \\\\\n",
    "- & \\text{2 mixing point material balance (A, B)} \\\\\n",
    "- & \\text{2 separator material balance (A, B)} \\\\\n",
    "+ & \\text{1 reactor reaction } (\\mathrm{A \\to B}) \\\\\n",
    "- & \\text{2 reactor reactive species (A, B)} \\\\\n",
    "- & \\text{0 reactor nonreactive species} \\\\\n",
    "- & \\text{3 other relation (conversion, split fraction of A, B)} \\\\\n",
    "\\hline & \\text{0 degrees of freedom}\\end{aligned}\n",
    "$$\n",
    "\n",
    "So the process variables can be uniquely determined.\n",
    "\n",
    "*Mixing point balance*\n",
    "\n",
    "$$\n",
    "\\begin{aligned}\n",
    "&\\text{A balance:} &F_1^A + F_4^A &= F_2^A \\\\\n",
    "&\\text{B balance:} &F_1^B + F_4^B &= F_2^B \\\\\n",
    "\\end{aligned}\n",
    "$$\n",
    "\n",
    "*Separator balance*\n",
    "\n",
    "$$\n",
    "\\begin{aligned}\n",
    "&\\text{A balance:} &F_3^A = F_4^A + F_5^A \\\\\n",
    "&\\text{B balance:} &F_3^B = F_4^B + F_5^B \\\\\n",
    "\\end{aligned}\n",
    "$$\n",
    "\n",
    "*Reactor balance with single pass conversion rate*\n",
    "\n",
    "$$\n",
    "\\begin{aligned}\n",
    "&\\text{A balance:} &F_3^A &= (1-X) F_2^A \\\\\n",
    "&\\text{B balance:} &F_3^B &= F_2^B + X F_2^A \\\\\n",
    "\\end{aligned}\n",
    "$$\n",
    "\n",
    "*Split fraction*\n",
    "\n",
    "$$\n",
    "\\begin{aligned}\n",
    "&\\text{A balance:} &F_4^A &= f_{3-4}F_3^A \\\\\n",
    "&\\text{B balance:} &F_4^B &= f_{3-4}F_3^B \\\\\n",
    "\\end{aligned}\n",
    "$$\n",
    "\n",
    "*Establish linear system.* Write the variable terms on the left and known constant terms on the right:\n",
    "\n",
    "$$\n",
    "\\begin{aligned}\n",
    "\\text{mixing point A balance:}& &F_2^A - F_4^A &= F_1^A \\\\\n",
    "\\text{mixing point B balance:}& &F_2^B - F_4^B &= F_1^B \\\\\n",
    "\\text{separator A balance:}& &F_4^A + F_5^A - F_3^A &= 0 \\\\\n",
    "\\text{separator B balance:}& &F_4^B + F_5^B - F_3^B &= 0 \\\\\n",
    "\\text{reactor A balance:}& &F_3^A - (1-X) F_2^A &= 0 \\\\\n",
    "\\text{reactor B balance:}& &F_3^B - F_2^B - X F_2^A &= 0 \\\\\n",
    "\\text{split fraction:}& &f_{3-4}F_3^A - F_4^A &= 0 \\\\\n",
    "\\text{split fraction:}& &f_{3-4}F_3^B - F_4^B &= 0 \\\\\n",
    "\\end{aligned}\n",
    "$$\n",
    "\n",
    "The the system of linear equations can be written in the form of\n",
    "\n",
    "$$\n",
    "\\mathbf{Ax = b}\n",
    "$$\n",
    "\n",
    "where\n",
    "\n",
    "$$\n",
    "\\mathbf{A} =\n",
    "\\begin{bmatrix}\n",
    "1 & 0 & 0 & 0 & -1 & 0 & 0 & 0 \\\\\n",
    "0 & 1 & 0 & 0 & 0 & -1 & 0 & 0 \\\\\n",
    "0 & 0 & -1 & 0 & 1 & 0 & 1 & 0 \\\\\n",
    "0 & 0 & 0 & -1 & 0 & 1 & 0 & 1 \\\\\n",
    "X-1 & 0 & 1 & 0 & 0 & 0 & 0 & 0 \\\\\n",
    "X & -1 & 0 & 1 & 0 & 0 & 0 & 0 \\\\\n",
    "0 & 0 & f_{3-4} & 0 & -1 & 0 & 0 & 0 \\\\\n",
    "0 & 0 & 0 & f_{3-4} & 0 & -1 & 0 & 0\n",
    "\\end{bmatrix},\n",
    "\\mathbf{x} =\n",
    "\\begin{bmatrix}\n",
    "F_2^A \\\\ F_2^B \\\\ F_3^A \\\\ F_3^B \\\\ F_4^A \\\\ F_4^B \\\\ F_5^A \\\\ F_5^B \\\\\n",
    "\\end{bmatrix},\n",
    "\\mathbf{b} =\n",
    "\\begin{bmatrix}\n",
    "F_1^A \\\\ F_1^B \\\\ 0 \\\\ 0 \\\\ 0 \\\\ 0 \\\\ 0 \\\\ 0\n",
    "\\end{bmatrix}\n",
    "$$\n",
    "\n",
    "We can then solve the system using `scipy.linalg.solve()`."
   ]
  },
  {
   "cell_type": "code",
   "execution_count": 1,
   "metadata": {},
   "outputs": [],
   "source": [
    "import numpy as np\n",
    "from scipy.linalg import solve"
   ]
  },
  {
   "cell_type": "code",
   "execution_count": 2,
   "metadata": {},
   "outputs": [],
   "source": [
    "# define process specifications\n",
    "conv_a = 0.75\n",
    "split_3_4_a = 0.2\n",
    "F_1_a = 1000\n",
    "F_1_b = 0"
   ]
  },
  {
   "cell_type": "code",
   "execution_count": 3,
   "metadata": {},
   "outputs": [],
   "source": [
    "A = np.array([[1, 0, 0, 0, -1, 0, 0, 0],\n",
    "              [0, 1, 0, 0, 0, -1, 0, 0],\n",
    "              [0, 0, -1, 0, 1, 0, 1, 0],\n",
    "              [0, 0, 0, -1, 0, 1, 0, 1],\n",
    "              [conv_a-1, 0, 1, 0, 0, 0, 0, 0],\n",
    "              [-conv_a, -1, 0, 1, 0, 0, 0, 0],\n",
    "              [0, 0, split_3_4_a, 0, -1, 0, 0, 0],\n",
    "              [0, 0, 0, split_3_4_a, 0, -1, 0, 0]])\n",
    "b = np.array([F_1_a, F_1_b, 0, 0, 0, 0, 0, 0])"
   ]
  },
  {
   "cell_type": "code",
   "execution_count": 4,
   "metadata": {},
   "outputs": [
    {
     "data": {
      "text/plain": [
       "array([[1052.63157895,  197.36842105],\n",
       "       [ 263.15789474,  986.84210526],\n",
       "       [  52.63157895,  197.36842105],\n",
       "       [ 210.52631579,  789.47368421]])"
      ]
     },
     "execution_count": 4,
     "metadata": {},
     "output_type": "execute_result"
    }
   ],
   "source": [
    "solve(A, b).reshape(-1, 2)"
   ]
  },
  {
   "cell_type": "markdown",
   "metadata": {},
   "source": [
    "The solution is therefore\n",
    "\n",
    "$$\n",
    "\\mathbf{x} =\n",
    "\\begin{bmatrix}\n",
    "F_2^A \\\\ F_2^B \\\\ F_3^A \\\\ F_3^B \\\\ F_4^A \\\\ F_4^B \\\\ F_5^A \\\\ F_5^B \\\\\n",
    "\\end{bmatrix} =\n",
    "\\begin{bmatrix}\n",
    "1053 \\\\ 197 \\\\ 263 \\\\ 987 \\\\ 53 \\\\ 197 \\\\ 211 \\\\ 789 \\\\\n",
    "\\end{bmatrix}\n",
    "$$\n",
    "\n",
    "We can now construct the stream table:\n",
    "\n",
    "|Component|Steam 1|Steam 2|Steam 3|Steam 4|Steam 5|\n",
    "|-:|-:|-:|-:|-:|-:|\n",
    "|A [mol/h]|1000|1053|263|53|211|\n",
    "|B [mol/h]|0|197|987|197|789|\n",
    "|Total [mol/h]|1000|1250|1250|250|1000|"
   ]
  },
  {
   "cell_type": "markdown",
   "metadata": {},
   "source": [
    "### Tear stream method\n",
    "\n",
    "**Solution.** Tear stream method focuses on solving for the recycle stream. In this method, we view the recycle stream as two separate streams, steams 4a and 4b, with equal mass (and molar) flow rate:\n",
    "\n",
    "![Tear stream](img/tear-stream.png)\n",
    "\n",
    "We first give an (arbitrary) guess to steam 4a, for example,\n",
    "\n",
    "$$\n",
    "\\begin{aligned}\n",
    "F_{4a}^A & = 0 \\\\\n",
    "F_{4a}^B & = 0\n",
    "\\end{aligned}\n",
    "$$\n",
    "\n",
    "We then obtain the expression of the recycle stream 4b for A and B in terms of the guesses of steam 4a:\n",
    "\n",
    "$$\n",
    "\\begin{aligned}\n",
    "F_{4b}^A & = f_{3-4}(1-X)(F_1^A + F_{4a}^A) \\\\\n",
    "F_{4b}^B & = f_{3-4}X(F_1^A + F_{4a}^A) + f_{3-4}(F_1^B + F_{4a}^B)\n",
    "\\end{aligned}\n",
    "$$\n",
    "\n",
    "We then use the result of stream 4b to update the guesses of steam 4a because they should be the same by our definition:\n",
    "\n",
    "$$\n",
    "\\begin{aligned}\n",
    "F_{4a}^A & = F_{4b}^A \\\\\n",
    "F_{4a}^B & = F_{4b}^B\n",
    "\\end{aligned}\n",
    "$$\n",
    "\n",
    "After iterations, the result should converge so that there are not difference between stream 4a and 4b."
   ]
  },
  {
   "cell_type": "code",
   "execution_count": 5,
   "metadata": {},
   "outputs": [],
   "source": [
    "import numpy as np"
   ]
  },
  {
   "cell_type": "code",
   "execution_count": 6,
   "metadata": {},
   "outputs": [],
   "source": [
    "# define process specifications\n",
    "conv_a = 0.75\n",
    "split_3_4_a = 0.2\n",
    "F_1_a = 1000\n",
    "F_1_b = 0"
   ]
  },
  {
   "cell_type": "code",
   "execution_count": 7,
   "metadata": {},
   "outputs": [],
   "source": [
    "# define iteration parameters\n",
    "tolerance = 1e-8\n",
    "max_iter = 1000\n",
    "i = 0"
   ]
  },
  {
   "cell_type": "code",
   "execution_count": 8,
   "metadata": {},
   "outputs": [],
   "source": [
    "# define dummy values to enter loop\n",
    "abs_error_4a_b = tolerance * 2\n",
    "rel_error_4a_b = tolerance * 2"
   ]
  },
  {
   "cell_type": "code",
   "execution_count": 9,
   "metadata": {},
   "outputs": [],
   "source": [
    "# define initial guesses of tear stream\n",
    "F_4a_a_guess = 0\n",
    "F_4a_b_guess = 0\n",
    "F_4a_a = F_4a_a_guess\n",
    "F_4a_b = F_4a_b_guess"
   ]
  },
  {
   "cell_type": "code",
   "execution_count": 10,
   "metadata": {},
   "outputs": [],
   "source": [
    "# tear stream method logic\n",
    "while (abs_error_4a_b > tolerance or rel_error_4a_b > tolerance) and i < max_iter:\n",
    "    # calculate via material balance\n",
    "    F_4b_a = split_3_4_a * (1 - conv_a) * (F_1_a + F_4a_a)\n",
    "    F_4b_b = split_3_4_a * conv_a * (F_1_a + F_4a_a) + split_3_4_a * (F_1_b + F_4a_b)\n",
    "    # calculate errors\n",
    "    abs_error_4a_b = abs(F_4b_b - F_4a_b)\n",
    "    rel_error_4a_b = abs_error_4a_b / F_4b_b\n",
    "    # set next guess of 4a to current 4b\n",
    "    F_4a_a = F_4b_a\n",
    "    F_4a_b = F_4b_b\n",
    "    i += 1"
   ]
  },
  {
   "cell_type": "code",
   "execution_count": 11,
   "metadata": {},
   "outputs": [
    {
     "name": "stdout",
     "output_type": "stream",
     "text": [
      "Iterations: 16\n",
      "Absolute error: 6.55e-09\n",
      "Relative error: 3.32e-11\n",
      "A in recycle stream: 52.6\n",
      "B in recycle stream: 197.4\n"
     ]
    }
   ],
   "source": [
    "print(f'Iterations: {i}')\n",
    "print(f'Absolute error: {abs_error_4a_b:.2e}')\n",
    "print(f'Relative error: {rel_error_4a_b:.2e}')\n",
    "print(f'A in recycle stream: {F_4a_a:.1f}')\n",
    "print(f'B in recycle stream: {F_4a_b:.1f}')"
   ]
  },
  {
   "cell_type": "markdown",
   "metadata": {},
   "source": [
    "The stream table can then be calculated from other material balance relations with known flow rates of recycle stream."
   ]
  }
 ],
 "metadata": {
  "kernelspec": {
   "display_name": "Python 3 (ipykernel)",
   "language": "python",
   "name": "python3"
  },
  "language_info": {
   "codemirror_mode": {
    "name": "ipython",
    "version": 3
   },
   "file_extension": ".py",
   "mimetype": "text/x-python",
   "name": "python",
   "nbconvert_exporter": "python",
   "pygments_lexer": "ipython3",
   "version": "3.9.13"
  }
 },
 "nbformat": 4,
 "nbformat_minor": 4
}
