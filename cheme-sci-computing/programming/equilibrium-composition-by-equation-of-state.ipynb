{
 "cells": [
  {
   "cell_type": "markdown",
   "id": "bfbdc957",
   "metadata": {},
   "source": [
    "# Determining Equilibrium Composition using Equation of State Method\n",
    "\n",
    "Teng-Jui Lin\n",
    "\n",
    "Content adapted from UW CHEME 326, Chemical Engineering Thermodynamics, in Winter 2022.\n",
    "\n",
    "Problems reprinted from Koretsky, M. D. *Engineering and Chemical Thermodynamics*. (Wiley, 2012).\n",
    "\n",
    "## Using van der Waals EOS to predict VLE behavior\n",
    "\n",
    "**Koretsky Example 8.15.** Using the equation of state method, determine the equilibrium composition in the vapor phase and the system pressure of a mixture of methane (1) and n-pentane (2) with a liquid mole fraction of $x_1 = 0.3$ at 37.78°C. Use the van der Waals equation of state to determine fugacity for both vapor and liquid phases.  Iterate until $|\\Sigma y_i - 1| < 0.001$.\n",
    "\n",
    "### Property calculations\n",
    "\n",
    "All properties are converted to SI units to avoid confusions.\n",
    "\n",
    "Given temperature\n",
    "\n",
    "- $T = 37.78 ^\\circ\\mathrm{C} = 310.93 \\ \\mathrm{K}$\n",
    "\n",
    "and look up Antoine coefficients (Appendix A1)\n",
    "\n",
    "- Methane (1)\n",
    "  - $A_{1}=8.6041$\n",
    "  - $B_{1}=897.84$\n",
    "  - $C_{1}=-7.16$\n",
    "- n-pentane (2)\n",
    "  - $A_{2}=9.2131$\n",
    "  - $B_{2}=2477.07$\n",
    "  - $C_{2}=-39.94$\n",
    "\n",
    "we can calculate vapor pressure of methane and n-pentane using Antoine's equation:\n",
    "\n",
    "- $\\displaystyle P_{sat1}=\\exp\\left(A_{1}-\\frac{B_{1}}{T+C_{1}}\\right) = 283.85 \\ \\mathrm{bar} = 283.85 \\times 10^5 \\ \\mathrm{Pa}$\n",
    "- $\\displaystyle P_{sat2}=\\exp\\left(A_{2}-\\frac{B_{2}}{T+C_{2}}\\right) = 1.07 \\ \\mathrm{bar} = 1.07 \\times 10^5 \\ \\mathrm{Pa}$\n",
    "\n",
    "Given Liquid compositions\n",
    "  - $x_1 = 0.3$\n",
    "  - $x_2 = 1 - x_1 = 0.7$\n",
    "\n",
    "we can calculate the pressure as the weighted sum of the saturation pressure:\n",
    "\n",
    "- $\\displaystyle P = \\sum x_i P_{sat, i} = x_1 P_{sat1} + x_2 P_{sat2} = 85.9 \\times 10^5 \\ \\mathrm{Pa}$\n",
    "\n",
    "Using Raoult's law, we can estimate the vapor compositions:\n",
    "\n",
    "- $\\displaystyle y_{1}=\\frac{x_{1}P_{sat1}}{P} = 0.991$\n",
    "- $y_2 = 1 - y_1 = 0.009$\n",
    "\n",
    "### vdW EOS property calculations\n",
    "\n",
    "The results from Raoult's law is a rough estimate, and we want to get more accurate results using the vdW EOS. Recall that the vdW EOS requires two vdW parameters $a$ and $b$.\n",
    "\n",
    "Look up critical temperatures and pressures of methane and n-pentane\n",
    "\n",
    "- $T_{c1}=190.6 \\times 10^5 \\ \\mathrm{K}$\n",
    "- $T_{c2}=469.6  \\times 10^5 \\ \\mathrm{K}$\n",
    "- $P_{c1}=46 \\times 10^5 \\ \\mathrm{Pa}$\n",
    "- $P_{c2}=33.74 \\times 10^5 \\ \\mathrm{Pa}$\n",
    "\n",
    "we can calculate the vdW parameters of *pure* species\n",
    "\n",
    "- $\\displaystyle a_{1}=\\frac{27}{64}\\frac{R^{2}T_{c1}^{2}}{P_{c1}} = 0.2303 \\ \\mathrm{J \\ m^3/mol^3}$\n",
    "- $\\displaystyle a_{2}=\\frac{27}{64}\\frac{R^{2}T_{c2}^{2}}{P_{c2}} = 1.906 \\ \\mathrm{J \\ m^3/mol^3}$\n",
    "- $\\displaystyle b_{1}=\\frac{RT_{c1}}{8P_{c1}} = 4.31 \\times 10^{-5} \\ \\mathrm{m^3/mol}$\n",
    "- $\\displaystyle b_{2}=\\frac{RT_{c2}}{8P_{c2}} = 1.45 \\times 10^{-4} \\ \\mathrm{m^3/mol}$\n",
    "\n",
    "and interaction term\n",
    "\n",
    "- $a_{12} = \\sqrt{a_1a_2} = 1.462 \\ \\mathrm{J \\ m^3/mol^3}$\n",
    "\n",
    "\n",
    "where the ideal gas constant is $R = 8.314 \\ \\mathrm{J/mol \\ K}$. We can then calculate vdW parameters of the *mixed* system liquid and vapor phase using mixing rules (note that we assumed the vdW EOS works well in liquid phase)\n",
    "\n",
    "- Liquid phase (we know for sure, same for every iteration)\n",
    "  - $\\displaystyle a_{l}=x_{1}^{2}a_{1}+x_{2}^{2}a_{2}+2x_{1}x_{2}a_{12} = 1.23 \\ \\mathrm{J m^3/mol^3}$\n",
    "  - $\\displaystyle b_{l}=x_{1}b_{1}+x_{2}b_{2} = 1.14 \\times 10^{-5} \\ \\mathrm{J m^3/mol^3}$\n",
    "- Vapor phase (an estimate for first iteration, to be recalculated for each iteration)\n",
    "  - $\\displaystyle a_{v}=y_{1}^{2}a_{1}+y_{2}^{2}a_{2}+2y_{1}y_{2}a_{12} = 0.238 \\ \\mathrm{J m^3/mol^3}$\n",
    "  - $\\displaystyle b_{v}=y_{1}b_{1}+y_{2}b_{2} = 4.40\\times 10^{-5} \\ \\mathrm{m^3/mol}$\n",
    "\n",
    "### vdW EOS calculations\n",
    "\n",
    "The vdW EOS\n",
    "\n",
    "$$\n",
    "P = \\dfrac{RT}{v - b} - \\dfrac{a}{v^2}\n",
    "$$\n",
    "\n",
    "now has all the parameters. Solve for $v_l$ using $R, P, T, a_l, b_l$ and take the smallest root. Solve for $v_v$ using $R, P, T, a_v, b_v$ and take the largest root:\n",
    "\n",
    "- $v_l = 1.59 \\times 10^{-4} \\ \\mathrm{m^3/mol}$\n",
    "- $v_v = 2.55 \\times 10^{-4} \\ \\mathrm{m^3/mol}$\n",
    "\n",
    "### vdW fugacity coefficient calculations\n",
    "\n",
    "Knowing the molar volume of liquid and vapor phases, we can calculate the fugacity coefficient with equation from Koretsky Table 7.1:\n",
    "\n",
    "$$\n",
    "\\ln \\hat{\\varphi}_i = \\frac{b_{i}}{v-b}-\\ln\\left(\\frac{\\left(v-b\\right)P}{RT}\\right)-\\frac{2\\displaystyle\\sum_{n=1}^{m}y_{k}a_{ik}}{RTv}\n",
    "$$\n",
    "\n",
    "with appropriate properties in each phase (vapor and liquid) for each species (methane and n-pentane).\n",
    "\n",
    "- $\\displaystyle \\hat{\\varphi}_1^v = \\exp\\left[\\frac{b_{1}}{v_v-b_v}-\\ln\\left(\\frac{\\left(v_v-b_v\\right)P}{RT}\\right)-\\frac{2\\left( y_1 a_1 + y_2 a_{12} \\right)}{RTv_v}\\right] = 0.86$\n",
    "- $\\displaystyle \\hat{\\varphi}_2^v = \\exp\\left[\\frac{b_{2}}{v_v-b_v}-\\ln\\left(\\frac{\\left(v_v-b_v\\right)P}{RT}\\right)-\\frac{2\\left( y_2 a_2 + y_1 a_{12} \\right)}{RTv_v}\\right] = 0.37$\n",
    "- $\\displaystyle \\hat{\\varphi}_1^l = \\exp\\left[\\frac{b_{1}}{v_l-b_l}-\\ln\\left(\\frac{\\left(v_l-b_l\\right)P}{RT}\\right)-\\frac{2\\left( x_1 a_1 + x_2 a_{12} \\right)}{RTv_l}\\right] = 1.30$\n",
    "- $\\displaystyle \\hat{\\varphi}_2^l = \\exp\\left[\\frac{b_{2}}{v_l-b_l}-\\ln\\left(\\frac{\\left(v_l-b_l\\right)P}{RT}\\right)-\\frac{2\\left( x_2 a_2 + x_1 a_{12} \\right)}{RTv_l}\\right] = 0.10$\n",
    "\n",
    "```{warning}\n",
    "The Koretsky Book has typos in the latter two equations. The third term should use $x_1$ and $x_2$ because they're in liquid phase, but NOT $y_1$ and $y_2$.\n",
    "```\n",
    "\n",
    "### Vapor composition calculation\n",
    "\n",
    "We can calculate the vapor composition using fugacity coefficients:\n",
    "\n",
    "- $\\displaystyle y_1 = \\dfrac{x_1 \\hat{\\varphi}_1^l}{\\hat{\\varphi}_{1}^{v}} = 0.45$\n",
    "- $\\displaystyle y_2 = \\dfrac{x_2 \\hat{\\varphi}_2^l}{\\hat{\\varphi}_{2}^{v}} = 0.18$\n",
    "\n",
    "```{warning}\n",
    "The Koretsky Book has a typo in the $y_2$ equation: use $x_2$ instead of $x_1$.\n",
    "```\n",
    "\n",
    "Note that the compositions does not sum to 1, indicating that further iteration is needed for the result to converge. We iterate by updating the pressure\n",
    "\n",
    "- $P \\leftarrow P(y_1 + y_2)$\n",
    "\n",
    "### Iteration\n",
    "\n",
    "Repeat calculations including and following vdW EOS property calculation until the pressure and vapor compositions converge (no longer changes a lot from last iteration).\n",
    "\n",
    "### Iteration result\n",
    "\n",
    "After iteration, we get $P = 34.5 \\times 10^{5} \\ \\mathrm{Pa}$ and $y_1 = 0.79$."
   ]
  },
  {
   "cell_type": "code",
   "execution_count": 1,
   "id": "a97bfcb6",
   "metadata": {
    "ExecuteTime": {
     "end_time": "2022-02-25T02:31:50.606345Z",
     "start_time": "2022-02-25T02:31:49.689047Z"
    }
   },
   "outputs": [],
   "source": [
    "import matplotlib.pyplot as plt\n",
    "import numpy as np\n",
    "from sympy import Symbol\n",
    "from sympy.solvers import solve"
   ]
  },
  {
   "cell_type": "code",
   "execution_count": 2,
   "id": "5f0f01f6-d42d-4488-ad4d-a3ff28f94161",
   "metadata": {},
   "outputs": [],
   "source": [
    "# universal constant\n",
    "R = 8.314  # J/mol K\n",
    "# given properties\n",
    "T = 37.78 + 273.15  # K\n",
    "x1 = 0.3\n",
    "x2 = 1 - x1"
   ]
  },
  {
   "cell_type": "code",
   "execution_count": 3,
   "id": "381fc7e4-a05e-421b-a199-ad2fecf5c772",
   "metadata": {},
   "outputs": [],
   "source": [
    "# formula for vdW params and saturation pressure\n",
    "pure_a = lambda Tc, Pc, R: 27 / 64 * (R * Tc) ** 2 / Pc\n",
    "pure_b = lambda Tc, Pc, R: 1 / 8 * (R * Tc) / Pc\n",
    "antoine = lambda A, B, C, T: np.exp(A - B / (T + C)) * 1e5  # Pa"
   ]
  },
  {
   "cell_type": "code",
   "execution_count": 4,
   "id": "95c455cb-6e84-455e-bb47-0f84ac550b64",
   "metadata": {},
   "outputs": [],
   "source": [
    "# physical properties - appendix a1\n",
    "# methane (1)\n",
    "A1 = 8.6041\n",
    "B1 = 897.84\n",
    "C1 = -7.16\n",
    "Tc1 = 190.6  # K\n",
    "Pc1 = 46.00e5  # Pa\n",
    "a1 = pure_a(Tc1, Pc1, R)\n",
    "b1 = pure_b(Tc1, Pc1, R)\n",
    "# n-pentane (2)\n",
    "A2 = 9.2131\n",
    "B2 = 2477.07\n",
    "C2 = -39.94\n",
    "Tc2 = 469.6  # K\n",
    "Pc2 = 33.74e5  # Pa\n",
    "a2 = pure_a(Tc2, Pc2, R)\n",
    "b2 = pure_b(Tc2, Pc2, R)\n",
    "# mixture\n",
    "a12 = np.sqrt(a1 * a2)"
   ]
  },
  {
   "cell_type": "code",
   "execution_count": 5,
   "id": "9eb8e2a9-6d4d-4522-a189-9c275640c728",
   "metadata": {},
   "outputs": [
    {
     "data": {
      "text/plain": [
       "(28384910.01139723, 107495.95099231375)"
      ]
     },
     "execution_count": 5,
     "metadata": {},
     "output_type": "execute_result"
    }
   ],
   "source": [
    "# saturation pressures\n",
    "Psat1 = antoine(A1, B1, C1, T)\n",
    "Psat2 = antoine(A2, B2, C2, T)\n",
    "Psat1, Psat2"
   ]
  },
  {
   "cell_type": "code",
   "execution_count": 6,
   "id": "be0d012b-1cde-40ae-89b2-71a0dfb89166",
   "metadata": {},
   "outputs": [
    {
     "data": {
      "text/plain": [
       "8590720.169113789"
      ]
     },
     "execution_count": 6,
     "metadata": {},
     "output_type": "execute_result"
    }
   ],
   "source": [
    "# estimate total pressure\n",
    "P = x1 * Psat1 + x2 * Psat2\n",
    "P"
   ]
  },
  {
   "cell_type": "code",
   "execution_count": 7,
   "id": "6e33147d-59ea-418b-b0de-801f26f78234",
   "metadata": {},
   "outputs": [
    {
     "data": {
      "text/plain": [
       "(0.9912408780389382, 0.008759121961061624)"
      ]
     },
     "execution_count": 7,
     "metadata": {},
     "output_type": "execute_result"
    }
   ],
   "source": [
    "# estimate vapor compositions\n",
    "y1 = x1 * Psat1 / P\n",
    "y2 = x2 * Psat2 / P\n",
    "y1, y2"
   ]
  },
  {
   "cell_type": "code",
   "execution_count": 8,
   "id": "7abdead2-3338-4fb0-9e82-52e6340e0f11",
   "metadata": {},
   "outputs": [],
   "source": [
    "def solve_v(T, P, a, b, R, phase):\n",
    "    \"\"\"Solve vdW EOS for v.\"\"\"\n",
    "    v = Symbol(\"v\")\n",
    "    eqn = R * T / (v - b) - a / v**2 - P\n",
    "    result = solve(eqn)\n",
    "    result = np.array(result, dtype=np.cdouble)\n",
    "    result = np.real(result[np.isreal(result)])  # only keep real root\n",
    "    if phase == \"v\":\n",
    "        return max(result)\n",
    "    elif phase == \"l\":\n",
    "        return min(result)\n",
    "    else:\n",
    "        raise ValueError"
   ]
  },
  {
   "cell_type": "code",
   "execution_count": 9,
   "id": "eb1f374a-f7ac-42cd-9f32-f690934c9e1a",
   "metadata": {},
   "outputs": [],
   "source": [
    "# formula for mixed vdW params\n",
    "mixed_a = (\n",
    "    lambda comp1, comp2, a1, a2: comp1**2 * a1\n",
    "    + 2 * comp1 * comp2 * np.sqrt(a1 * a2)\n",
    "    + comp2**2 * a2\n",
    ")\n",
    "mixed_b = lambda comp1, comp2, b1, b2: comp1 * b1 + comp2 * b2\n",
    "# formula for fugacity coefficients (phi_1, for phi_2, switch arguments of 1 and 2 properties)\n",
    "phi = lambda comp1, comp2, P, v, T, R, a1, a12, b, b1: np.exp(\n",
    "    b1 / (v - b)\n",
    "    - np.log((v - b) * P / (R * T))\n",
    "    - 2 * (comp1 * a1 + comp2 * a12) / (R * T * v)\n",
    ")"
   ]
  },
  {
   "cell_type": "code",
   "execution_count": 10,
   "id": "1b7d03df-938d-424c-bc9a-3959bf68c75f",
   "metadata": {},
   "outputs": [],
   "source": [
    "num_iter = 0\n",
    "max_iter = 10000\n",
    "tol = 0.001\n",
    "tol_criteria = tol * 2\n",
    "while tol_criteria > tol and num_iter < max_iter:\n",
    "    # calculate vdW parameters for mixtures in each phase\n",
    "    a_v = mixed_a(y1, y2, a1, a2)\n",
    "    b_v = mixed_b(y1, y2, b1, b2)\n",
    "    a_l = mixed_a(x1, x2, a1, a2)\n",
    "    b_l = mixed_b(x1, x2, b1, b2)\n",
    "    # solve vdW EOS for molar volume in each phase\n",
    "    v_v = solve_v(T, P, a_v, b_v, R, phase=\"v\")\n",
    "    v_l = solve_v(T, P, a_l, b_l, R, phase=\"l\")\n",
    "    # calculate fugacity coefficient of each species in each phase\n",
    "    phi_v1 = phi(y1, y2, P, v_v, T, R, a1, a12, b_v, b1)\n",
    "    phi_v2 = phi(y2, y1, P, v_v, T, R, a2, a12, b_v, b2)\n",
    "    phi_l1 = phi(x1, x2, P, v_l, T, R, a1, a12, b_l, b1)\n",
    "    phi_l2 = phi(x2, x1, P, v_l, T, R, a2, a12, b_l, b2)\n",
    "    # update vapor composition\n",
    "    y1 = x1 * phi_l1 / phi_v1\n",
    "    y2 = x2 * phi_l2 / phi_v2\n",
    "    # update total pressure\n",
    "    P = P * (y1 + y2)\n",
    "    # calculate if calculation converges\n",
    "    tol_criteria = abs(y1 + y2 - 1)\n",
    "    num_iter += 1"
   ]
  },
  {
   "cell_type": "code",
   "execution_count": 11,
   "id": "ffd07820-c4c7-4f3d-afeb-63bd47f6c108",
   "metadata": {},
   "outputs": [
    {
     "name": "stdout",
     "output_type": "stream",
     "text": [
      "Converged in 7 iterations, with convergence 0.0003 < 0.001\n",
      "phi_v1 = 0.96\n",
      "phi_v2 = 0.55\n",
      "phi_l1 = 2.54\n",
      "phi_l2 = 0.17\n",
      "y1 = 0.79\n",
      "y2 = 0.21\n",
      "P = 3445993 Pa\n"
     ]
    }
   ],
   "source": [
    "print(\n",
    "    f\"Converged in {num_iter} iterations, with convergence {round(tol_criteria, 4)} < {tol}\"\n",
    ")\n",
    "print(f\"phi_v1 = {round(phi_v1, 2)}\")\n",
    "print(f\"phi_v2 = {round(phi_v2, 2)}\")\n",
    "print(f\"phi_l1 = {round(phi_l1, 2)}\")\n",
    "print(f\"phi_l2 = {round(phi_l2, 2)}\")\n",
    "print(f\"y1 = {round(y1, 2)}\")\n",
    "print(f\"y2 = {round(y2, 2)}\")\n",
    "print(f\"P = {round(P)} Pa\")"
   ]
  },
  {
   "cell_type": "markdown",
   "id": "4f043d72-3960-496b-be08-7fcaa599857a",
   "metadata": {},
   "source": [
    "## Using Peng-Robinson EOS to predict VLE behavior\n",
    "\n",
    "**Koretsky Example 8.16.** Repeat Example 8.15 using the Peng–Robinson equation of state. Compare your answer to the reported measured value of P = 69.1 bar and $y_1 = 0.95$. (Use $k_{12} = 0$)\n",
    "\n",
    "The approach is the same with using vdW EOS, but instead we use Peng-Robinson EOS:\n",
    "\n",
    "$$\n",
    "P = \\dfrac{RT}{v-b} - \\dfrac{a\\alpha}{v^2 + 2bv - b^2}\n",
    "$$\n",
    "\n",
    "and we calculate fugacity coefficients using\n",
    "\n",
    "$$\n",
    "\\hat{\\varphi}_i = \\exp\\left[ \\dfrac{b_i}{b} (z - 1) - \\ln\\left(\\dfrac{(v - b)P}{RT}\\right) + \\dfrac{a\\alpha}{2\\sqrt{2}bRT} \\left[\\dfrac{b_i}{b} - \\dfrac{2}{a\\alpha} \\sum_{k=1}^m y_k (a\\alpha)_{ik} \\right] \\ln\\left[\\dfrac{v + (1 + \\sqrt{2})b}{v + (1 - \\sqrt{2})b}\\right] \\right]\n",
    "$$\n",
    "\n",
    "where $z = \\dfrac{Pv}{RT}$ is the compressibility factor, with careful substitution of $a\\alpha, b$ noting the species and $v$ noting the phase. Use $x_k$ in the sum if calculating fugacity coefficient in the liquid phase.\n",
    "\n",
    "```{admonition} Try it yourself: write out $\\hat{\\varphi}_1^v, \\hat{\\varphi}_2^v, \\hat{\\varphi}_1^l, \\hat{\\varphi}_2^l$\n",
    ":class: tip, dropdown\n",
    "\n",
    "$$\n",
    "\\hat{\\varphi}_1^v = \\exp\\left[ \\dfrac{b_1}{b_v} (z - 1) - \\ln\\left(\\dfrac{(v_v - b_v)P}{RT}\\right) + \\dfrac{(a\\alpha)_v}{2\\sqrt{2}b_vRT} \\left[\\dfrac{b_1}{b_v} - \\dfrac{2}{(a\\alpha)_v} (y_1(a\\alpha)_1 + y_2(a\\alpha)_{12}) \\right] \\ln\\left[\\dfrac{v_v + (1 + \\sqrt{2})b_v}{v_v + (1 - \\sqrt{2})b_v}\\right] \\right]\n",
    "$$\n",
    "\n",
    "$$\n",
    "\\hat{\\varphi}_2^v = \\exp\\left[ \\dfrac{b_2}{b_v} (z - 1) - \\ln\\left(\\dfrac{(v_v - b_v)P}{RT}\\right) + \\dfrac{(a\\alpha)_v}{2\\sqrt{2}b_vRT} \\left[\\dfrac{b_2}{b_v} - \\dfrac{2}{(a\\alpha)_v} (y_2(a\\alpha)_2 + y_1(a\\alpha)_{12}) \\right] \\ln\\left[\\dfrac{v_v + (1 + \\sqrt{2})b_v}{v_v + (1 - \\sqrt{2})b_v}\\right] \\right]\n",
    "$$\n",
    "\n",
    "$$\n",
    "\\hat{\\varphi}_1^l = \\exp\\left[ \\dfrac{b_1}{b_l} (z - 1) - \\ln\\left(\\dfrac{(v_l - b_l)P}{RT}\\right) + \\dfrac{(a\\alpha)_l}{2\\sqrt{2}b_lRT} \\left[\\dfrac{b_1}{b_l} - \\dfrac{2}{(a\\alpha)_l} (x_1(a\\alpha)_1 + x_2(a\\alpha)_{12}) \\right] \\ln\\left[\\dfrac{v_l + (1 + \\sqrt{2})b_l}{v_l + (1 - \\sqrt{2})b_l}\\right] \\right]\n",
    "$$\n",
    "\n",
    "$$\n",
    "\\hat{\\varphi}_2^l = \\exp\\left[ \\dfrac{b_2}{b_l} (z - 1) - \\ln\\left(\\dfrac{(v_l - b_l)P}{RT}\\right) + \\dfrac{(a\\alpha)_l}{2\\sqrt{2}b_lRT} \\left[\\dfrac{b_2}{b_l} - \\dfrac{2}{(a\\alpha)_l} (x_2(a\\alpha)_2 + x_1(a\\alpha)_{12}) \\right] \\ln\\left[\\dfrac{v_l + (1 + \\sqrt{2})b_l}{v_l + (1 - \\sqrt{2})b_l}\\right] \\right]\n",
    "$$\n",
    "```\n",
    "\n",
    "We calculate pure species Peng-Robinson parameters with\n",
    "\n",
    "- $a = 0.45724 \\dfrac{R^2 T_c^{2}}{P_c}$\n",
    "- $b = 0.07780 \\dfrac{RT_c}{P_c}$\n",
    "- $\\alpha(T) = [1 + \\kappa(1 - \\sqrt{T_r})]^2$\n",
    "  - $\\kappa = 0.37464 + 1.54226\\omega - 0.26992\\omega^2$\n",
    "    - $\\omega$ is the acentric factor of the species found in Appendix A.1\n",
    "\n",
    "and calculate Peng-Robinson parameters of mixtures using mixing rules of\n",
    "\n",
    "- $a\\alpha = y_1^2 (a\\alpha)_1 + 2y_1 y_1 \\sqrt{(a\\alpha)_1(a\\alpha)_2} (1-k_{12}) + y_2^2 (a\\alpha)_2$\n",
    "  - $k$ is binary interaction parameter of the two species found in literature\n",
    "- $b = y_1b_1 + y_1b_2$\n",
    "\n",
    "with appropriate use of $x$ with liquid phase and $y$ with vapor phase."
   ]
  },
  {
   "cell_type": "code",
   "execution_count": 12,
   "id": "8eb2156a-5a9d-4f20-9d21-f7bb980c8c75",
   "metadata": {},
   "outputs": [],
   "source": [
    "# universal constant\n",
    "R = 8.314  # J/mol K\n",
    "# given properties\n",
    "T = 37.78 + 273.15  # K\n",
    "x1 = 0.3\n",
    "x2 = 1 - x1\n",
    "k12 = 0"
   ]
  },
  {
   "cell_type": "code",
   "execution_count": 13,
   "id": "68c7f263-b642-4701-a529-a3fbcc7ce3fe",
   "metadata": {},
   "outputs": [],
   "source": [
    "# formula for Peng-Robinson params and saturation pressure\n",
    "pure_a = lambda Tc, Pc, R: 0.45724 * (R * Tc) ** 2 / Pc\n",
    "pure_b = lambda Tc, Pc, R: 0.07780 * (R * Tc) / Pc\n",
    "kappa = lambda omega: 0.37464 + 1.54226 * omega - 0.26992 * omega**2\n",
    "alpha = lambda Tr, kappa: (1 + kappa * (1 - np.sqrt(Tr))) ** 2\n",
    "antoine = lambda A, B, C, T: np.exp(A - B / (T + C)) * 1e5  # Pa"
   ]
  },
  {
   "cell_type": "code",
   "execution_count": 14,
   "id": "027cf5bf-054a-409d-9d84-7aeeb263870d",
   "metadata": {},
   "outputs": [],
   "source": [
    "# physical properties - appendix a1\n",
    "# methane (1)\n",
    "A1 = 8.6041\n",
    "B1 = 897.84\n",
    "C1 = -7.16\n",
    "omega1 = 0.008\n",
    "Tc1 = 190.6  # K\n",
    "Pc1 = 46.00e5  # Pa\n",
    "Tr1 = T / Tc1\n",
    "a1 = pure_a(Tc1, Pc1, R)\n",
    "b1 = pure_b(Tc1, Pc1, R)\n",
    "kappa1 = kappa(omega1)\n",
    "alpha1 = alpha(Tr1, kappa1)\n",
    "a_alpha_1 = a1 * alpha1\n",
    "# n-pentane (2)\n",
    "A2 = 9.2131\n",
    "B2 = 2477.07\n",
    "C2 = -39.94\n",
    "omega2 = 0.251\n",
    "Tc2 = 469.6  # K\n",
    "Pc2 = 33.74e5  # Pa\n",
    "Tr2 = T / Tc2\n",
    "a2 = pure_a(Tc2, Pc2, R)\n",
    "b2 = pure_b(Tc2, Pc2, R)\n",
    "kappa2 = kappa(omega2)\n",
    "alpha2 = alpha(Tr2, kappa2)\n",
    "a_alpha_2 = a2 * alpha2\n",
    "# mixture\n",
    "a12 = np.sqrt(a1 * a2)\n",
    "a_alpha_12 = np.sqrt(a_alpha_1 * a_alpha_2)"
   ]
  },
  {
   "cell_type": "code",
   "execution_count": 15,
   "id": "127094e0-42db-41cc-a7bd-868dad27e84b",
   "metadata": {},
   "outputs": [
    {
     "data": {
      "text/plain": [
       "(28384910.01139723, 107495.95099231375)"
      ]
     },
     "execution_count": 15,
     "metadata": {},
     "output_type": "execute_result"
    }
   ],
   "source": [
    "# saturation pressures\n",
    "Psat1 = antoine(A1, B1, C1, T)\n",
    "Psat2 = antoine(A2, B2, C2, T)\n",
    "Psat1, Psat2"
   ]
  },
  {
   "cell_type": "code",
   "execution_count": 16,
   "id": "5fe067c4-d1c4-4375-9973-fe3abda85a09",
   "metadata": {},
   "outputs": [
    {
     "data": {
      "text/plain": [
       "8590720.169113789"
      ]
     },
     "execution_count": 16,
     "metadata": {},
     "output_type": "execute_result"
    }
   ],
   "source": [
    "# estimate total pressure\n",
    "P = x1 * Psat1 + x2 * Psat2\n",
    "P"
   ]
  },
  {
   "cell_type": "code",
   "execution_count": 17,
   "id": "f2256509-fabb-4a88-b6c4-7f54841114ef",
   "metadata": {},
   "outputs": [
    {
     "data": {
      "text/plain": [
       "(0.9912408780389382, 0.008759121961061624)"
      ]
     },
     "execution_count": 17,
     "metadata": {},
     "output_type": "execute_result"
    }
   ],
   "source": [
    "# estimate vapor compositions\n",
    "y1 = x1 * Psat1 / P\n",
    "y2 = x2 * Psat2 / P\n",
    "y1, y2"
   ]
  },
  {
   "cell_type": "code",
   "execution_count": 18,
   "id": "68f1df0e-e8f3-45f0-9a90-99ff9f72ad50",
   "metadata": {},
   "outputs": [],
   "source": [
    "def solve_v(T, P, a_alpha, b, R, phase):\n",
    "    \"\"\"Solve Peng-Robinson EOS for v.\"\"\"\n",
    "    v = Symbol(\"v\")\n",
    "    eqn = R * T / (v - b) - a_alpha / (v**2 + 2 * b * v - b**2) - P\n",
    "    result = solve(eqn)\n",
    "    result = np.array(result, dtype=np.cdouble)\n",
    "    result = np.real(result[np.isreal(result)])  # only keep real root\n",
    "    if phase == \"v\":\n",
    "        return max(result)\n",
    "    elif phase == \"l\":\n",
    "        return min(result)\n",
    "    else:\n",
    "        raise ValueError"
   ]
  },
  {
   "cell_type": "code",
   "execution_count": 19,
   "id": "28001f5c-49dc-4369-a97a-121d27c69f10",
   "metadata": {},
   "outputs": [],
   "source": [
    "# formula for mixed Peng-Robinson params\n",
    "mixed_a_alpha = (\n",
    "    lambda comp1, comp2, a_alpha_1, a_alpha_2, k12: comp1**2 * a_alpha_1\n",
    "    + 2 * comp1 * comp2 * np.sqrt(a_alpha_1 * a_alpha_2) * (1 - k12)\n",
    "    + comp2**2 * a_alpha_2\n",
    ")\n",
    "mixed_b = lambda comp1, comp2, b1, b2: comp1 * b1 + comp2 * b2\n",
    "# formula for fugacity coefficients (phi_1, for phi_2, switch arguments of 1 and 2 properties)\n",
    "phi = lambda comp1, comp2, P, v, T, R, a_alpha, a_alpha_1, a_alpha_12, b, b1: np.exp(\n",
    "    b1 / b * (P * v / (R * T) - 1)\n",
    "    - np.log((v - b) * P / (R * T))\n",
    "    + a_alpha\n",
    "    / (2 * np.sqrt(2) * b * R * T)\n",
    "    * (b1 / b - 2 / a_alpha * (comp1 * a_alpha_1 + comp2 * a_alpha_12))\n",
    "    * np.log((v + (1 + np.sqrt(2)) * b) / (v + (1 - np.sqrt(2)) * b))\n",
    ")"
   ]
  },
  {
   "cell_type": "code",
   "execution_count": 20,
   "id": "521e416b-3e92-4d6b-95f3-542ac6c0f933",
   "metadata": {},
   "outputs": [],
   "source": [
    "num_iter = 0\n",
    "max_iter = 10000\n",
    "tol = 0.001\n",
    "tol_criteria = tol * 2\n",
    "while tol_criteria > tol and num_iter < max_iter:\n",
    "    # calculate Peng-Robinson parameters for mixtures in each phase\n",
    "    a_alpha_v = mixed_a_alpha(y1, y2, a_alpha_1, a_alpha_2, k12)\n",
    "    b_v = mixed_b(y1, y2, b1, b2)\n",
    "    a_alpha_l = mixed_a_alpha(x1, x2, a_alpha_1, a_alpha_2, k12)\n",
    "    b_l = mixed_b(x1, x2, b1, b2)\n",
    "    # solve Peng-Robinson EOS for molar volume in each phase\n",
    "    v_v = solve_v(T, P, a_alpha_v, b_v, R, phase=\"v\")\n",
    "    v_l = solve_v(T, P, a_alpha_l, b_l, R, phase=\"l\")\n",
    "    # calculate fugacity coefficient of each species in each phase\n",
    "    phi_v1 = phi(y1, y2, P, v_v, T, R, a_alpha_v, a_alpha_1, a_alpha_12, b_v, b1)\n",
    "    phi_v2 = phi(y2, y1, P, v_v, T, R, a_alpha_v, a_alpha_2, a_alpha_12, b_v, b2)\n",
    "    phi_l1 = phi(x1, x2, P, v_l, T, R, a_alpha_l, a_alpha_1, a_alpha_12, b_l, b1)\n",
    "    phi_l2 = phi(x2, x1, P, v_l, T, R, a_alpha_l, a_alpha_2, a_alpha_12, b_l, b2)\n",
    "    # update vapor composition\n",
    "    y1 = x1 * phi_l1 / phi_v1\n",
    "    y2 = x2 * phi_l2 / phi_v2\n",
    "    # update total pressure\n",
    "    P = P * (y1 + y2)\n",
    "    # calculate if calculation converges\n",
    "    tol_criteria = abs(y1 + y2 - 1)\n",
    "    num_iter += 1"
   ]
  },
  {
   "cell_type": "code",
   "execution_count": 21,
   "id": "f97308df-f93d-4dbb-b9e0-6c12610cb25d",
   "metadata": {},
   "outputs": [
    {
     "name": "stdout",
     "output_type": "stream",
     "text": [
      "Converged in 6 iterations, with convergence 0.0005 < 0.001\n",
      "phi_v1 = 0.9\n",
      "phi_v2 = 0.34\n",
      "phi_l1 = 2.85\n",
      "phi_l2 = 0.02\n",
      "y1 = 0.95\n",
      "y2 = 0.05\n",
      "P = 6265035 Pa\n"
     ]
    }
   ],
   "source": [
    "print(\n",
    "    f\"Converged in {num_iter} iterations, with convergence {round(tol_criteria, 4)} < {tol}\"\n",
    ")\n",
    "print(f\"phi_v1 = {round(phi_v1, 2)}\")\n",
    "print(f\"phi_v2 = {round(phi_v2, 2)}\")\n",
    "print(f\"phi_l1 = {round(phi_l1, 2)}\")\n",
    "print(f\"phi_l2 = {round(phi_l2, 2)}\")\n",
    "print(f\"y1 = {round(y1, 2)}\")\n",
    "print(f\"y2 = {round(y2, 2)}\")\n",
    "print(f\"P = {round(P)} Pa\")"
   ]
  },
  {
   "cell_type": "markdown",
   "id": "718cba36-0d54-43e3-9699-326b9d4c93cc",
   "metadata": {},
   "source": [
    "## Practice Problem\n",
    "\n",
    "**Koretsky Problem 8.61.** Using the equation of state method, determine the equilibrium composition in the vapor phase and the system pressure of a mixture of methane (1) and n-pentane (2) with a liquid mole fraction of $x_1 = 0.1$ at 60°C. Use the van der Waals equation of state to determine fugacity for both vapor and liquid phases. Iterate until $|\\Sigma y_i - 1| < 0.001$.\n",
    "\n",
    "```{note}\n",
    "Code your own answer before checking the answer!\n",
    "```"
   ]
  },
  {
   "cell_type": "code",
   "execution_count": 22,
   "id": "cf4a7a4a",
   "metadata": {
    "ExecuteTime": {
     "end_time": "2022-02-25T02:31:50.611563Z",
     "start_time": "2022-02-25T02:31:50.608264Z"
    },
    "tags": [
     "hide-input"
    ]
   },
   "outputs": [
    {
     "name": "stdout",
     "output_type": "stream",
     "text": [
      "Converged in 5 iterations, with convergence 0.0 < 0.001\n",
      "phi_v1 = 1.0\n",
      "phi_v2 = 0.64\n",
      "phi_l1 = 3.35\n",
      "phi_l2 = 0.26\n",
      "y1 = 0.67\n",
      "y2 = 0.33\n",
      "P = 2802522 Pa\n"
     ]
    }
   ],
   "source": [
    "# universal constant\n",
    "R = 8.314  # J/mol K\n",
    "# given properties\n",
    "T = 60 + 273.15  # K\n",
    "x1 = 0.2\n",
    "x2 = 1 - x1\n",
    "\n",
    "# formula for vdW params and saturation pressure\n",
    "pure_a = lambda Tc, Pc, R: 27 / 64 * (R * Tc) ** 2 / Pc\n",
    "pure_b = lambda Tc, Pc, R: 1 / 8 * (R * Tc) / Pc\n",
    "antoine = lambda A, B, C, T: np.exp(A - B / (T + C)) * 1e5  # Pa\n",
    "\n",
    "# physical properties - appendix a1\n",
    "# methane (1)\n",
    "A1 = 8.6041\n",
    "B1 = 897.84\n",
    "C1 = -7.16\n",
    "Tc1 = 190.6  # K\n",
    "Pc1 = 46.00e5  # Pa\n",
    "a1 = pure_a(Tc1, Pc1, R)\n",
    "b1 = pure_b(Tc1, Pc1, R)\n",
    "# n-pentane (2)\n",
    "A2 = 9.2131\n",
    "B2 = 2477.07\n",
    "C2 = -39.94\n",
    "Tc2 = 469.6  # K\n",
    "Pc2 = 33.74e5  # Pa\n",
    "a2 = pure_a(Tc2, Pc2, R)\n",
    "b2 = pure_b(Tc2, Pc2, R)\n",
    "# mixture\n",
    "a12 = np.sqrt(a1 * a2)\n",
    "\n",
    "# saturation pressures\n",
    "Psat1 = antoine(A1, B1, C1, T)\n",
    "Psat2 = antoine(A2, B2, C2, T)\n",
    "# estimate total pressure\n",
    "P = x1 * Psat1 + x2 * Psat2\n",
    "# estimate vapor compositions\n",
    "y1 = x1 * Psat1 / P\n",
    "y2 = x2 * Psat2 / P\n",
    "\n",
    "\n",
    "def solve_v(T, P, a, b, R, phase):\n",
    "    \"\"\"Solve vdW EOS for v.\"\"\"\n",
    "    v = Symbol(\"v\")\n",
    "    eqn = R * T / (v - b) - a / v**2 - P\n",
    "    result = solve(eqn)\n",
    "    result = np.array(result, dtype=np.cdouble)\n",
    "    result = np.real(result[np.isreal(result)])  # only keep real root\n",
    "    if phase == \"v\":\n",
    "        return max(result)\n",
    "    elif phase == \"l\":\n",
    "        return min(result)\n",
    "    else:\n",
    "        raise ValueError\n",
    "\n",
    "\n",
    "# formula for mixed vdW params\n",
    "mixed_a = (\n",
    "    lambda comp1, comp2, a1, a2: comp1**2 * a1\n",
    "    + 2 * comp1 * comp2 * np.sqrt(a1 * a2)\n",
    "    + comp2**2 * a2\n",
    ")\n",
    "mixed_b = lambda comp1, comp2, b1, b2: comp1 * b1 + comp2 * b2\n",
    "# formula for fugacity coefficients (phi_1, for phi_2, switch arguments of 1 and 2 properties)\n",
    "phi = lambda comp1, comp2, P, v, T, R, a1, a12, b, b1: np.exp(\n",
    "    b1 / (v - b)\n",
    "    - np.log((v - b) * P / (R * T))\n",
    "    - 2 * (comp1 * a1 + comp2 * a12) / (R * T * v)\n",
    ")\n",
    "\n",
    "# iteratre through vdW EOS\n",
    "num_iter = 0\n",
    "max_iter = 10000\n",
    "tol = 0.001\n",
    "tol_criteria = tol * 2\n",
    "while tol_criteria > tol and num_iter < max_iter:\n",
    "    # calculate vdW parameters for mixtures in each phase\n",
    "    a_v = mixed_a(y1, y2, a1, a2)\n",
    "    b_v = mixed_b(y1, y2, b1, b2)\n",
    "    a_l = mixed_a(x1, x2, a1, a2)\n",
    "    b_l = mixed_b(x1, x2, b1, b2)\n",
    "    # solve vdW EOS for molar volume in each phase\n",
    "    v_v = solve_v(T, P, a_v, b_v, R, phase=\"v\")\n",
    "    v_l = solve_v(T, P, a_l, b_l, R, phase=\"l\")\n",
    "    # calculate fugacity coefficient of each species in each phase\n",
    "    phi_v1 = phi(y1, y2, P, v_v, T, R, a1, a12, b_v, b1)\n",
    "    phi_v2 = phi(y2, y1, P, v_v, T, R, a2, a12, b_v, b2)\n",
    "    phi_l1 = phi(x1, x2, P, v_l, T, R, a1, a12, b_l, b1)\n",
    "    phi_l2 = phi(x2, x1, P, v_l, T, R, a2, a12, b_l, b2)\n",
    "    # update vapor composition\n",
    "    y1 = x1 * phi_l1 / phi_v1\n",
    "    y2 = x2 * phi_l2 / phi_v2\n",
    "    # update total pressure\n",
    "    P = P * (y1 + y2)\n",
    "    # calculate if calculation converges\n",
    "    tol_criteria = abs(y1 + y2 - 1)\n",
    "    num_iter += 1\n",
    "\n",
    "# report results\n",
    "print(\n",
    "    f\"Converged in {num_iter} iterations, with convergence {round(tol_criteria, 4)} < {tol}\"\n",
    ")\n",
    "print(f\"phi_v1 = {round(phi_v1, 2)}\")\n",
    "print(f\"phi_v2 = {round(phi_v2, 2)}\")\n",
    "print(f\"phi_l1 = {round(phi_l1, 2)}\")\n",
    "print(f\"phi_l2 = {round(phi_l2, 2)}\")\n",
    "print(f\"y1 = {round(y1, 2)}\")\n",
    "print(f\"y2 = {round(y2, 2)}\")\n",
    "print(f\"P = {round(P)} Pa\")"
   ]
  }
 ],
 "metadata": {
  "kernelspec": {
   "display_name": "Python 3 (ipykernel)",
   "language": "python",
   "name": "python3"
  },
  "language_info": {
   "codemirror_mode": {
    "name": "ipython",
    "version": 3
   },
   "file_extension": ".py",
   "mimetype": "text/x-python",
   "name": "python",
   "nbconvert_exporter": "python",
   "pygments_lexer": "ipython3",
   "version": "3.10.5"
  },
  "toc": {
   "base_numbering": 1,
   "nav_menu": {},
   "number_sections": true,
   "sideBar": true,
   "skip_h1_title": false,
   "title_cell": "Table of Contents",
   "title_sidebar": "Contents",
   "toc_cell": false,
   "toc_position": {},
   "toc_section_display": true,
   "toc_window_display": false
  }
 },
 "nbformat": 4,
 "nbformat_minor": 5
}
