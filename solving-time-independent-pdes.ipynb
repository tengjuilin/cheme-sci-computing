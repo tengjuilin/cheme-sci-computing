{
 "cells": [
  {
   "cell_type": "markdown",
   "metadata": {},
   "source": [
    "# Solving Time-Indepdendent PDEs\n",
    "\n",
    "Created: 18 June 2021 <br/>\n",
    "Last edited: 18 June 2021 <br/>\n",
    "Teng-Jui Lin\n",
    "\n",
    "Content adapted from UW CHEME 375, Chemical Engineering Computer Skills, in Spring 2021.\n",
    "\n",
    "In this notebook, we explore the implementation of\n",
    "\n",
    "- solving time-independent PDEs using finite difference method"
   ]
  },
  {
   "cell_type": "markdown",
   "metadata": {},
   "source": [
    "## Time-independent 2D heat transfer\n",
    "**Problem Statement.** We have a thin metal slab at steady-state, having different temperatures on its four sides. Determine the equilibrium temperature of the slab of points in the interval $[1, 3]\\times[1, 3]$ with equal spacing of 1.\n",
    "\n",
    "Given boundary conditions $T(0, y) = 75 \\mathrm{^\\circ C}, T(4, y) = 50 \\mathrm{^\\circ C}, T(x, 0) = 0 \\mathrm{^\\circ C}, T(x, 4) = 100 \\mathrm{^\\circ C}$."
   ]
  },
  {
   "cell_type": "markdown",
   "metadata": {},
   "source": [
    "### Analytic expression\n",
    "**Solution.** We have the heat transport governing equation\n",
    "\n",
    "$$\n",
    "k\\nabla^2 T + \\dot{q} + \\Phi = \\rho C_V\\dfrac{\\partial T}{\\partial t}\n",
    "$$\n",
    "\n",
    "where $\\nabla^2 = \\frac{\\partial^2}{\\partial x^2} + \\frac{\\partial^2}{\\partial y^2} + \\frac{\\partial^2}{\\partial z^2}$.\n",
    "\n",
    "Based on the problem statement, we have the assumptions:\n",
    "\n",
    "- No heat source/generation\n",
    "  - $\\dot{q} = 0$\n",
    "- No fluid or heat movement\n",
    "  - $\\Phi = 0$\n",
    "- Steady-state system $\\implies$ no time dependence\n",
    "  - $\\frac{\\partial T}{\\partial t} = 0$\n",
    "- Thin metal slab $\\implies$ 2D heat transfer (no heat transfer in $z$ direction)\n",
    "  - $\\frac{\\partial^2 T}{\\partial z^2} = 0$\n",
    "- Constant thermal conductivity $\\implies k \\not= f(x, y, z, t)$\n",
    "  - $k$ can be simplified\n",
    "\n",
    "Therefore, we can simplify the governing equation:\n",
    "\n",
    "$$\n",
    "\\begin{aligned}\n",
    "k\\nabla^2 T + \\dot{q} + \\Phi &= \\rho C_V\\dfrac{\\partial T}{\\partial t} \\\\\n",
    "k\\nabla^2 T &= 0 \\\\\n",
    "\\nabla^2 T &= 0 \\\\\n",
    "\\left(\\frac{\\partial^2}{\\partial x^2} + \\frac{\\partial^2}{\\partial y^2} + \\frac{\\partial^2}{\\partial z^2}\\right) T &= 0 \\\\\n",
    "\\frac{\\partial^2T}{\\partial x^2} + \\frac{\\partial^2T}{\\partial y^2} &= 0\n",
    "\\end{aligned}\n",
    "$$"
   ]
  },
  {
   "cell_type": "markdown",
   "metadata": {},
   "source": [
    "### Numerical approximations\n",
    "By central finite difference, we approximate the derivatives by\n",
    "\n",
    "$$\n",
    "\\dfrac{\\partial^2 T}{\\partial x^2} \\approx \\dfrac{T_{i-1, j} - 2T_{i, j} + T_{i+1, j}}{\\Delta x^2}\n",
    "$$\n",
    "\n",
    "$$\n",
    "\\dfrac{\\partial^2 T}{\\partial y^2} \\approx \\dfrac{T_{i, j-1} - 2T_{i, j} + T_{i, j+1}}{\\Delta y^2}\n",
    "$$\n",
    "\n",
    "Assume that the spacing in $x$ and $y$ directions are the same $\\Delta x = \\Delta y = 1$, we have from the original equation:\n",
    "\n",
    "$$\n",
    "\\begin{aligned}\n",
    "\\frac{\\partial^2T}{\\partial x^2} &+& \\frac{\\partial^2T}{\\partial y^2} &= 0 \\\\\n",
    "\\dfrac{T_{i-1, j} - 2T_{i, j} + T_{i+1, j}}{\\Delta x^2} &+& \\dfrac{T_{i, j-1} - 2T_{i, j} + T_{i, j+1}}{\\Delta y^2} &= 0 \\\\\n",
    "T_{i-1, j} - 2T_{i, j} + T_{i+1, j} &+& T_{i, j-1} - 2T_{i, j} + T_{i, j+1} &= 0 \\\\\n",
    "\\end{aligned}\n",
    "$$\n",
    "\n",
    "For each point in the slab, we write out the expression from the above equation. We also replace the boundary conditions with numerical values. For example, at point $(i, j) = (1, 1)$, we have\n",
    "\n",
    "$$\n",
    "\\begin{aligned}\n",
    "T_{0, 1} - 2T_{1, 1} + T_{2, 1} + T_{1, 0} - 2T_{1, 1} + T_{1, 2} &= 0 \\\\\n",
    "T_{0, 1} + T_{1, 0} - 4T_{1, 1} + T_{1, 2} + T_{2, 1} &= 0 \\\\\n",
    "- 4T_{1, 1} + T_{1, 2} + T_{2, 1} &= -T_{0, 1} - T_{1, 0} \\\\\n",
    "- 4T_{1, 1} + T_{1, 2} + T_{2, 1} &= -75 \\\\\n",
    "\\end{aligned}\n",
    "$$"
   ]
  },
  {
   "cell_type": "markdown",
   "metadata": {},
   "source": [
    "### From PDE to linear algebra\n",
    "\n",
    "We can repeat the process for all the points. In this case, we have 9 points, therefore 9 equations and 9 unknowns:\n",
    "\n",
    "$$\n",
    "\\begin{matrix}\n",
    "+4T_{1,1} & -T_{2,1} & & -T_{1,2} & & & & & &=& 75 \\\\\n",
    "-T_{1,1} & +4T_{2,1} & -T_{3,1} & & -T_{2,2} & & & & &=& 0 \\\\\n",
    "& -T_{2,1} & +4T_{3,1} & & & -T_{3,2} & & & &=& 50 \\\\\n",
    "-T_{1,1} & & & +4T_{1,2} & -T_{2,2} & & -T_{1,3} & & &=& 75 \\\\\n",
    "& -T_{2,1} & & -T_{1,2} & +4T_{2,2} & -T_{3,2} & & -T_{2,3} & &=& 0 \\\\\n",
    "& & -T_{3,1} & & -T_{2,2} & +4T_{3,2} & & & -T_{3,3} &=& 50 \\\\\n",
    "& & & -T_{1,2} & & & +4T_{1,3} & -T_{2,3} & &=& 175 \\\\\n",
    "& & & & -T_{2,2} & & -T_{1,3} & +4T_{2,3} & -T_{3,3} &=& 100 \\\\\n",
    "& & & & & -T_{3,2} & & -T_{2,3} & +4T_{3,3} &=& 150 \\\\\n",
    "\\end{matrix}\n",
    "$$\n",
    "\n",
    "so we have the system $\\mathbf{A}\\mathbf{x} = \\mathbf{b}$, where\n",
    "\n",
    "$$\n",
    "\\mathbf{A} =\n",
    "\\begin{bmatrix}\n",
    "+4 & -1 & & -1 & & & & & \\\\\n",
    "-1 & +4 & -1 & & -1 & & & & \\\\\n",
    "& -1 & +4 & & & -1 & & & \\\\\n",
    "-1 & & & +4 & -1 & & -1 & & \\\\\n",
    "& -1 & & -1 & +4 & -1 & & -1 & \\\\\n",
    "& & -1 & & -1 & +4 & & & -1 \\\\\n",
    "& & & -1 & & & +4 & -1 & \\\\\n",
    "& & & & -1 & & -1 & +4 & -1 \\\\\n",
    "& & & & & -1 & & -1 & +4 \\\\\n",
    "\\end{bmatrix},\n",
    "\\mathbf{x} =\n",
    "\\begin{bmatrix}\n",
    "T_{1,1} \\\\ T_{2,1} \\\\ T_{3,1} \\\\ T_{1,2} \\\\ T_{2,2} \\\\ T_{3,2} \\\\ T_{1,3} \\\\ T_{2,3} \\\\ T_{3,3}\n",
    "\\end{bmatrix},\n",
    "\\mathbf{b} = \\begin{bmatrix}\n",
    "75 \\\\ 0 \\\\ 50 \\\\ 75 \\\\ 0 \\\\ 50 \\\\ 175 \\\\ 100 \\\\ 150\n",
    "\\end{bmatrix}\n",
    "$$\n",
    "\n",
    "We can then solve the system of linear equations."
   ]
  },
  {
   "cell_type": "markdown",
   "metadata": {},
   "source": [
    "### Implementation\n",
    "\n",
    "In this approach, we use [`numpy.linalg.solve()`](https://numpy.org/doc/stable/reference/generated/numpy.linalg.solve.html) to solve the linear system obtained from simplifying the PDE."
   ]
  },
  {
   "cell_type": "code",
   "execution_count": 1,
   "metadata": {},
   "outputs": [],
   "source": [
    "import numpy as np\n",
    "import matplotlib.pyplot as plt"
   ]
  },
  {
   "cell_type": "code",
   "execution_count": 2,
   "metadata": {},
   "outputs": [
    {
     "data": {
      "text/plain": [
       "array([[ 4., -1.,  0., -1.,  0.,  0.,  0.,  0.,  0.],\n",
       "       [-1.,  4., -1.,  0., -1.,  0.,  0.,  0.,  0.],\n",
       "       [ 0., -1.,  4.,  0.,  0., -1.,  0.,  0.,  0.],\n",
       "       [-1.,  0.,  0.,  4., -1.,  0., -1.,  0.,  0.],\n",
       "       [ 0., -1.,  0., -1.,  4., -1.,  0., -1.,  0.],\n",
       "       [ 0.,  0., -1.,  0., -1.,  4.,  0.,  0., -1.],\n",
       "       [ 0.,  0.,  0., -1.,  0.,  0.,  4., -1.,  0.],\n",
       "       [ 0.,  0.,  0.,  0., -1.,  0., -1.,  4., -1.],\n",
       "       [ 0.,  0.,  0.,  0.,  0., -1.,  0., -1.,  4.]])"
      ]
     },
     "execution_count": 2,
     "metadata": {},
     "output_type": "execute_result"
    }
   ],
   "source": [
    "# create the (sparse) matrix\n",
    "A_size = 9\n",
    "A = np.zeros((A_size, A_size))\n",
    "for i in range(A_size):\n",
    "    A[i, i] = 4\n",
    "\n",
    "band_num = 4-1\n",
    "for i in range(A_size-band_num):\n",
    "    A[3+i, i] = -1\n",
    "for i in range(A_size-band_num):\n",
    "    A[i, 3+i] = -1\n",
    "\n",
    "band_num = 2-1\n",
    "for i in range(A_size-band_num):\n",
    "    A[band_num+i, i] = -1\n",
    "for i in range(A_size-band_num):\n",
    "    A[i, band_num+i] = -1\n",
    "    \n",
    "for i in range(2, A_size-band_num, 3):\n",
    "    A[band_num+i, i] = 0\n",
    "for i in range(2, A_size-band_num, 3):\n",
    "    A[i, band_num+i] = 0\n",
    "A"
   ]
  },
  {
   "cell_type": "code",
   "execution_count": 3,
   "metadata": {},
   "outputs": [],
   "source": [
    "b = np.array([75, 0, 50, 75, 0, 50, 175, 100, 150])"
   ]
  },
  {
   "cell_type": "code",
   "execution_count": 4,
   "metadata": {},
   "outputs": [
    {
     "data": {
      "text/plain": [
       "array([42.85714286, 33.25892857, 33.92857143, 63.16964286, 56.25      ,\n",
       "       52.45535714, 78.57142857, 76.11607143, 69.64285714])"
      ]
     },
     "execution_count": 4,
     "metadata": {},
     "output_type": "execute_result"
    }
   ],
   "source": [
    "temperatures = np.linalg.solve(A, b)\n",
    "temperatures"
   ]
  },
  {
   "cell_type": "code",
   "execution_count": 5,
   "metadata": {},
   "outputs": [],
   "source": [
    "row = 3\n",
    "col = 3\n",
    "T_profile = temperatures.reshape(row, col)"
   ]
  },
  {
   "cell_type": "code",
   "execution_count": 6,
   "metadata": {},
   "outputs": [
    {
     "name": "stdout",
     "output_type": "stream",
     "text": [
      "78.57 | 76.12 | 69.64\n",
      "63.17 | 56.25 | 52.46\n",
      "42.86 | 33.26 | 33.93\n"
     ]
    }
   ],
   "source": [
    "for i in np.arange(6, -1, -3):\n",
    "    print('{:.2f} | {:.2f} | {:.2f}'.format(*temperatures[i:i+3]))"
   ]
  },
  {
   "cell_type": "markdown",
   "metadata": {},
   "source": [
    "### Plotting annotated heatmap"
   ]
  },
  {
   "cell_type": "code",
   "execution_count": 7,
   "metadata": {},
   "outputs": [],
   "source": [
    "# plot settings\n",
    "%config InlineBackend.figure_format = 'retina'\n",
    "%matplotlib inline\n",
    "\n",
    "plt.rcParams.update({\n",
    "    'font.family': 'Arial',  # Times New Roman, Calibri\n",
    "    'font.weight': 'normal',\n",
    "    'mathtext.fontset': 'cm',\n",
    "    'font.size': 18,\n",
    "    \n",
    "    'lines.linewidth': 2,\n",
    "    \n",
    "    'axes.linewidth': 2,\n",
    "    'axes.spines.top': False,\n",
    "    'axes.spines.right': False,\n",
    "    'axes.titleweight': 'bold',\n",
    "    'axes.titlesize': 18,\n",
    "    'axes.labelweight': 'bold',\n",
    "    \n",
    "    'xtick.major.size': 8,\n",
    "    'xtick.major.width': 2,\n",
    "    'ytick.major.size': 8,\n",
    "    'ytick.major.width': 2,\n",
    "    \n",
    "    'figure.dpi': 80,\n",
    "    \n",
    "    'legend.framealpha': 1, \n",
    "    'legend.edgecolor': 'black',\n",
    "    'legend.fancybox': False,\n",
    "    'legend.fontsize': 14\n",
    "})"
   ]
  },
  {
   "cell_type": "code",
   "execution_count": 8,
   "metadata": {
    "scrolled": true
   },
   "outputs": [
    {
     "data": {
      "image/png": "[encoded data removed]",
      "text/plain": [
       "<Figure size 480x320 with 2 Axes>"
      ]
     },
     "metadata": {
      "image/png": {
       "height": 309,
       "width": 380
      },
      "needs_background": "light"
     },
     "output_type": "display_data"
    }
   ],
   "source": [
    "import seaborn as sns\n",
    "T_heatmap = sns.heatmap(T_profile, square=True, cbar=True,\n",
    "                        annot=True, fmt=\".1f\", cmap='Reds',\n",
    "                        cbar_kws={'label': '$T \\ [^\\circ C]$', \n",
    "                                  'format': '%i', \n",
    "                                  'ticks': np.linspace(temperatures.min(), temperatures.max(), 5)})\n",
    "T_heatmap.set_title('Temperature of thin slab')\n",
    "T_heatmap.invert_yaxis()"
   ]
  }
 ],
 "metadata": {
  "kernelspec": {
   "display_name": "Python 3",
   "language": "python",
   "name": "python3"
  },
  "language_info": {
   "codemirror_mode": {
    "name": "ipython",
    "version": 3
   },
   "file_extension": ".py",
   "mimetype": "text/x-python",
   "name": "python",
   "nbconvert_exporter": "python",
   "pygments_lexer": "ipython3",
   "version": "3.7.4"
  }
 },
 "nbformat": 4,
 "nbformat_minor": 4
}
