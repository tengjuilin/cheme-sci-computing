{
 "cells": [
  {
   "cell_type": "markdown",
   "metadata": {},
   "source": [
    "# Solving Nonlinear Systems\n",
    "\n",
    "Teng-Jui Lin\n",
    "\n",
    "Content adapted from UW CHEME 375, Chemical Engineering Computer Skills, in Spring 2021.\n",
    "\n",
    "- Python skills and numerical methods\n",
    "  - Solving nonlinear systems by [`scipy.optimize.fsolve()`](https://docs.scipy.org/doc/scipy/reference/generated/scipy.optimize.fsolve.html)\n",
    "- ChemE applications\n",
    "  - Solving vapor-liquid equilibrium (VLE) problems"
   ]
  },
  {
   "cell_type": "markdown",
   "metadata": {},
   "source": [
    "## Solving binary vapor liquid equilibrium (VLE) problems\n",
    "\n",
    "**Problem Statement.** 1-propanol and 1-butanol are in binary vapor liquid equilibrium at a pressure of 0.5 atm. 1-propanol is 33% by moles in the liquid phase. Assuming ideal gas and solution behavior, determine the composition of the vapor phase and the temperature."
   ]
  },
  {
   "cell_type": "markdown",
   "metadata": {},
   "source": [
    "**Solution.** Assuming ideal behavior, Raoult's law states that the partial pressure of one component is equal to the vapor pressure of the component times its liquid mole fraction\n",
    "\n",
    "$$\n",
    "P_i = y_i P = x_i P_i^*(T)\n",
    "$$\n",
    "\n",
    "where the vapor pressure can be determined by Antoine's equation\n",
    "\n",
    "$$\n",
    "\\log P_i^*(T) = A - \\dfrac{B}{T+C}\n",
    "$$\n",
    "\n",
    "Note that Antoine's equation may take different form and units when using different tabulated values.\n",
    "\n",
    "Let 1-propanol be A and 1-butanol be B, we have the following equations, known, and unknown values.\n",
    "\n",
    "### Known values\n",
    "\n",
    "- Units in Antoine's equation\n",
    "    - P [=] mmHg\n",
    "    - T [=] deg C\n",
    "- Parameters of Antoine's equation (FRB Table B.4)\n",
    "\n",
    "|Compound|A|B|C|Valid T Range|\n",
    "|-:|-:|-:|-:|-:|\n",
    "|1-propanol (A)|7.74416|1437.686|198.463|60.2 - 104.6|\n",
    "|1-butanol (B)|7.36366|1305.198|173.427|89.2 - 125.7|\n",
    "\n",
    "- Known liquid composition\n",
    "    - $x_A = 33\\%$ (1-propanol)\n",
    "- Known pressure\n",
    "    - $P = 0.5 \\ \\mathrm{atm}$\n",
    "\n",
    "### Unknown variables\n",
    "\n",
    "- Composition of liquid phase: $x_B$\n",
    "- Composition of vapor phase: $y_A$, $y_B$\n",
    "- Temperature: $T$\n",
    "\n",
    "### Governing equations\n",
    "\n",
    "The raw equations are:\n",
    "\n",
    "- Raoult's law and Antoine's equation\n",
    "    - $y_A P = x_A P_A^*(T) = x_A 10^{\\wedge}(A_A - \\frac{B_A}{C_A+T})$\n",
    "    - $y_B P = x_B P_B^*(T) = x_B 10^{\\wedge}(A_B - \\frac{B_B}{C_B+T})$\n",
    "- conservation of mass (mole, since nonreactive)\n",
    "    - $y_A + y_B = 1$\n",
    "    - $x_A + x_B = 1$\n",
    "\n",
    "Convert all the equations so they're in the general form of $F(x) = 0$:\n",
    "\n",
    "- Raoult's law and Antoine's equation\n",
    "    - $y_A P - x_A 10^{\\wedge}(A_A - \\frac{B_A}{C_A+T}) = 0$\n",
    "    - $y_B P - x_B 10^{\\wedge}(A_B - \\frac{B_B}{C_B+T}) = 0$\n",
    "- conservation of mass\n",
    "    - $1 - y_A - y_B = 0$\n",
    "    - $1 - x_A - x_B = 0$\n",
    "\n",
    "We can now solve the four nonlinear equations with respect to the four unknown variables given the known values.\n"
   ]
  },
  {
   "cell_type": "markdown",
   "metadata": {},
   "source": [
    "### Implementation\n",
    "\n",
    "In this approach, we use [`scipy.optimize.fsolve()`](https://docs.scipy.org/doc/scipy/reference/generated/scipy.optimize.fsolve.html) to solve the nonlinear system directly."
   ]
  },
  {
   "cell_type": "code",
   "execution_count": 1,
   "metadata": {},
   "outputs": [],
   "source": [
    "import numpy as np\n",
    "from scipy.optimize import fsolve"
   ]
  },
  {
   "cell_type": "code",
   "execution_count": 2,
   "metadata": {},
   "outputs": [],
   "source": [
    "def system(X, params):\n",
    "    '''System of nonlinear equations'''\n",
    "    # X -> unknown variables\n",
    "    # params -> known values\n",
    "    xb, ya, yb, T = X\n",
    "    xa, P, Aa, Ba, Ca, Ab, Bb, Cb = params\n",
    "    # set up system of equations of form F(x)=0\n",
    "    eqns = np.array([\n",
    "        ya*P - xa*10**(Aa - Ba/(Ca + T)),\n",
    "        yb*P - xb*10**(Ab - Bb/(Cb + T)),\n",
    "        1 - ya - yb,\n",
    "        1 - xa - xb\n",
    "    ])\n",
    "    return eqns"
   ]
  },
  {
   "cell_type": "code",
   "execution_count": 3,
   "metadata": {},
   "outputs": [],
   "source": [
    "# define known values\n",
    "P = 0.5 * 760  # atm -> mmHg\n",
    "xa = 0.33\n",
    "params = [xa, P, \n",
    "          7.74416, 1437.686, 198.463,\n",
    "          7.36366, 1305.198, 173.427]"
   ]
  },
  {
   "cell_type": "code",
   "execution_count": 4,
   "metadata": {},
   "outputs": [],
   "source": [
    "# define initial guesses\n",
    "X0 = [0.5, 0.5, 0.5, 100]"
   ]
  },
  {
   "cell_type": "code",
   "execution_count": 5,
   "metadata": {},
   "outputs": [
    {
     "name": "stdout",
     "output_type": "stream",
     "text": [
      "xb = 0.67 mol butanol (l)/mol\n",
      "ya = 0.52 mol propanol (v)/mol\n",
      "yb = 0.48 mol butanol (v)/mol\n",
      "T = 91 deg C\n"
     ]
    }
   ],
   "source": [
    "# solve the system using scipy.optimize.fsolve()\n",
    "xb, ya, yb, T = fsolve(system, X0, params)\n",
    "print(f'xb = {xb:.2f} mol butanol (l)/mol')\n",
    "print(f'ya = {ya:.2f} mol propanol (v)/mol')\n",
    "print(f'yb = {yb:.2f} mol butanol (v)/mol')\n",
    "print(f'T = {T:.0f} deg C')"
   ]
  },
  {
   "cell_type": "code",
   "execution_count": 6,
   "metadata": {},
   "outputs": [
    {
     "data": {
      "text/plain": [
       "array([-6.07940365e-11, -4.01030320e-11, -5.55111512e-17,  0.00000000e+00])"
      ]
     },
     "execution_count": 6,
     "metadata": {},
     "output_type": "execute_result"
    }
   ],
   "source": [
    "# verify the root finding result\n",
    "system([xb, ya, yb, T], params)"
   ]
  },
  {
   "cell_type": "markdown",
   "metadata": {},
   "source": [
    "The temprature of the system is 91 degrees Celcius, within the valid temperature range of the Antoine's coefficients. The liquid phase mole fraction of 1-butanol is 67%. The vapor phase mole fraction of 1-propanol and 1-butanol are 52% and 48%, respectively."
   ]
  }
 ],
 "metadata": {
  "kernelspec": {
   "display_name": "Python 3",
   "language": "python",
   "name": "python3"
  },
  "language_info": {
   "codemirror_mode": {
    "name": "ipython",
    "version": 3
   },
   "file_extension": ".py",
   "mimetype": "text/x-python",
   "name": "python",
   "nbconvert_exporter": "python",
   "pygments_lexer": "ipython3",
   "version": "3.7.4"
  }
 },
 "nbformat": 4,
 "nbformat_minor": 4
}
