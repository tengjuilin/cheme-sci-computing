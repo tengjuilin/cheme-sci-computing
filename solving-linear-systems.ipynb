{
 "cells": [
  {
   "cell_type": "markdown",
   "metadata": {},
   "source": [
    "# Solving Linear Systems\n",
    "\n",
    "Created: 18 June 2021 <br/>\n",
    "Last edited: 18 June 2021 <br/>\n",
    "Teng-Jui Lin\n",
    "\n",
    "Content adapted from UW CHEME 375, Chemical Engineering Computer Skills, in Spring 2021.\n",
    "\n",
    "In this notebook, we explore the implementations of solving linear systems using\n",
    "\n",
    "- matrix inversion with `scipy.linalg.inv()`\n",
    "- direct solution from `scipy.linalg.solve()`.\n",
    "\n",
    "Solving linear systems can be applied to balancing chemical equations."
   ]
  },
  {
   "cell_type": "markdown",
   "metadata": {},
   "source": [
    "## Balancing chemical equations\n",
    "\n",
    "**Problem Statement.** (FRB 4.62a) Mammalian cells convert glucose to glutamic acid by the reaction\n",
    "\n",
    "$$\n",
    "\\mathrm{C_6H_12O_6} + a \\mathrm{NH_3} + b \\mathrm{O_2} \\to p \\mathrm{C_5H_9NO_4} + q \\mathrm{CO_2} + r \\mathrm{H_2O}\n",
    "$$\n",
    "\n",
    "Determine the stoichiometric coefficients."
   ]
  },
  {
   "cell_type": "markdown",
   "metadata": {},
   "source": [
    "**Solution.** We establish atomic balance between reactants and products:\n",
    "\n",
    "$$\n",
    "\\begin{aligned}\n",
    "&\\text{C balance:} &6 &= 5p + q \\\\\n",
    "&\\text{H balance:} &12 + 3a &= 9p + 2r \\\\\n",
    "&\\text{O balance:} &6 + 2b &= 4p + 2q + r \\\\\n",
    "&\\text{N balance:} &a &= p\n",
    "\\end{aligned}\n",
    "$$\n",
    "\n",
    "Reorganize the equations so that variables are on the left and constant are on the right:\n",
    "\n",
    "$$\n",
    "\\begin{aligned}\n",
    "&\\text{C balance:} &5p + q &= 6 \\\\\n",
    "&\\text{H balance:} &9p + 2r -3a &= 12 \\\\\n",
    "&\\text{O balance:} &4p + 2q + r - 2b &= 6 \\\\\n",
    "&\\text{N balance:} &a -p &= 0\n",
    "\\end{aligned}\n",
    "$$\n",
    "\n",
    "Because we have five variables but only four equations, we need to assume an arbitrary basis. Here, we can assume a basis of stoichiometric coefficient of $\\mathrm{C_5H_9NO_4}$ being one:\n",
    "\n",
    "$$\n",
    "\\begin{aligned}\n",
    "&\\text{Basis:} &p &= 1\n",
    "\\end{aligned}\n",
    "$$\n",
    "\n",
    "Now we have five variables and equations, so we can rewrite them to the form of\n",
    "\n",
    "$$\\mathbf{A}\\mathbf{x} = \\mathbf{b}$$\n",
    "\n",
    "where\n",
    "\n",
    "$$\n",
    "\\mathbf{A} =\n",
    "\\begin{bmatrix}\n",
    "0 & 0 & 5 & 1 & 0 \\\\\n",
    "-3 & 0 & 9 & 0 & 2 \\\\\n",
    "0 & -2 & 4 & 2 & 1 \\\\\n",
    "1 & 0 & -1 & 0 & 0 \\\\\n",
    "0 & 0 & 1 & 0 & 0\n",
    "\\end{bmatrix},\n",
    "\\mathbf{b} = \\begin{bmatrix} 6 \\\\ 12 \\\\ 6 \\\\ 0 \\\\ 1 \\end{bmatrix},\n",
    "\\mathbf{x} = \\begin{bmatrix} a \\\\ b \\\\ p \\\\ q \\\\ r \\end{bmatrix}\n",
    "$$\n",
    "\n",
    "We can then solve for $\\mathbf{x}$ and get the coefficients:\n",
    "\n",
    "$$\n",
    "\\begin{aligned}\n",
    "\\mathbf{A}^{-1}\\mathbf{A}\\mathbf{x} &= \\mathbf{A}^{-1}\\mathbf{b} \\\\\n",
    "\\mathbf{x} &= \\mathbf{A}^{-1}\\mathbf{b}\n",
    "\\end{aligned}\n",
    "$$\n",
    "\n",
    "The resulting coefficients are scalable, so we can scale them to whole number for reporting if needed."
   ]
  },
  {
   "cell_type": "markdown",
   "metadata": {},
   "source": [
    "### Implementation: solving linear systems using `numpy.linalg.inv()`\n",
    "\n",
    "In this approach, we use [`numpy.linalg.inv()`](https://numpy.org/doc/stable/reference/generated/numpy.linalg.inv.html) to solve the linear system by matrix inversion."
   ]
  },
  {
   "cell_type": "code",
   "execution_count": 1,
   "metadata": {},
   "outputs": [],
   "source": [
    "import numpy as np\n",
    "from numpy.linalg import inv"
   ]
  },
  {
   "cell_type": "code",
   "execution_count": 2,
   "metadata": {},
   "outputs": [],
   "source": [
    "# define the matrix and vector\n",
    "A = np.array([[0, 0, 5, 1, 0], \n",
    "               [-3, 0, 9, 0, 2], \n",
    "               [0, -2, 4, 2, 1], \n",
    "               [1, 0, -1, 0, 0],\n",
    "               [0, 0, 1, 0, 0]])\n",
    "b = np.array([6, 12, 6, 0, 1])"
   ]
  },
  {
   "cell_type": "code",
   "execution_count": 3,
   "metadata": {},
   "outputs": [
    {
     "data": {
      "text/plain": [
       "array([1. , 1.5, 1. , 1. , 3. ])"
      ]
     },
     "execution_count": 3,
     "metadata": {},
     "output_type": "execute_result"
    }
   ],
   "source": [
    "# calculate the unknown vector using inverse and matrix multiplication\n",
    "x = inv(A) @ b\n",
    "x"
   ]
  },
  {
   "cell_type": "markdown",
   "metadata": {},
   "source": [
    "Therefore, we have the solution\n",
    "\n",
    "$$\n",
    "\\mathbf{x}\n",
    "= \\begin{bmatrix} a \\\\ b \\\\ p \\\\ q \\\\ r \\end{bmatrix}\n",
    "= \\begin{bmatrix} 1 \\\\ 1.5 \\\\ 1 \\\\ 1 \\\\ 3 \\end{bmatrix}.\n",
    "$$\n",
    "\n",
    "We have the balanced chemical equation\n",
    "\n",
    "$$\n",
    "\\mathrm{C_6H_{12}O_6} + \\mathrm{NH_3} + 1.5 \\mathrm{O_2} \\to \\mathrm{C_5H_9NO_4} + \\mathrm{CO_2} + 3 \\mathrm{H_2O}\n",
    "$$"
   ]
  },
  {
   "cell_type": "markdown",
   "metadata": {},
   "source": [
    "### Implementation: solving linear systems using `numpy.linalg.solve()`\n",
    "\n",
    "In this approach, we use [`numpy.linalg.solve()`](https://numpy.org/doc/stable/reference/generated/numpy.linalg.solve.html) to directly solve the linear system."
   ]
  },
  {
   "cell_type": "code",
   "execution_count": 4,
   "metadata": {},
   "outputs": [],
   "source": [
    "from numpy.linalg import solve"
   ]
  },
  {
   "cell_type": "code",
   "execution_count": 5,
   "metadata": {},
   "outputs": [
    {
     "data": {
      "text/plain": [
       "array([1. , 1.5, 1. , 1. , 3. ])"
      ]
     },
     "execution_count": 5,
     "metadata": {},
     "output_type": "execute_result"
    }
   ],
   "source": [
    "x = solve(A, b)\n",
    "x"
   ]
  },
  {
   "cell_type": "markdown",
   "metadata": {},
   "source": [
    "This approach gives the same result and is computationally more efficient."
   ]
  }
 ],
 "metadata": {
  "kernelspec": {
   "display_name": "Python 3",
   "language": "python",
   "name": "python3"
  },
  "language_info": {
   "codemirror_mode": {
    "name": "ipython",
    "version": 3
   },
   "file_extension": ".py",
   "mimetype": "text/x-python",
   "name": "python",
   "nbconvert_exporter": "python",
   "pygments_lexer": "ipython3",
   "version": "3.7.4"
  }
 },
 "nbformat": 4,
 "nbformat_minor": 4
}
